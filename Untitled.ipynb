{
 "cells": [
  {
   "cell_type": "code",
   "execution_count": null,
   "id": "8aa2d7e8-32a1-4011-a326-2a5d6b3f3d3c",
   "metadata": {},
   "outputs": [],
   "source": []
  }
 ],
 "metadata": {
  "kernelspec": {
   "display_name": "",
   "name": ""
  },
  "language_info": {
   "name": ""
  }
 },
 "nbformat": 4,
 "nbformat_minor": 5
}
